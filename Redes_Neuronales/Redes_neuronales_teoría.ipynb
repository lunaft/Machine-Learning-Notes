{
 "cells": [
  {
   "cell_type": "markdown",
   "metadata": {},
   "source": [
    "# Redes Neuronales\n",
    "\n",
    "Las redes neuronales son un modelo de aprendizaje automático inspirado en el funcionamiento del cerebro humano. Están compuestas por neuronas artificiales organizadas en capas.\n",
    "\n",
    "## Conceptos Clave\n",
    "\n",
    "- **Neuronas**: Unidades básicas de una red neuronal que procesan la información. Cada neurona recibe una entrada, la procesa y produce una salida.\n",
    "- **Capas**: Conjunto de neuronas. Las redes neuronales típicamente tienen una capa de entrada, una o más capas ocultas y una capa de salida.\n",
    "- **Pesos y Sesgos**: Los pesos determinan la importancia de cada entrada, mientras que los sesgos permiten ajustar la salida de la neurona.\n",
    "- **Función de Activación**: Función no lineal aplicada a la salida de una neurona. Las funciones de activación comunes incluyen ReLU, sigmoide y tangente hiperbólica.\n",
    "\n",
    "## Construcción de una Red Neuronal\n",
    "\n",
    "1. **Inicialización de Pesos y Sesgos**: Asignar valores iniciales a los pesos y sesgos, generalmente de manera aleatoria.\n",
    "2. **Propagación hacia Adelante**: Calcular las salidas de las neuronas de cada capa utilizando las entradas, pesos, sesgos y la función de activación.\n",
    "3. **Cálculo del Error**: Comparar la salida de la red con la salida deseada utilizando una función de pérdida, como el error cuadrático medio.\n",
    "4. **Propagación hacia Atrás**: Ajustar los pesos y sesgos para minimizar el error utilizando un algoritmo de optimización como el descenso de gradiente.\n",
    "\n",
    "### Suposiciones y Consideraciones\n",
    "\n",
    "- **Estructura de la Red**: Decidir el número de capas y el número de neuronas en cada capa.\n",
    "- **Función de Activación**: Elegir la función de activación adecuada para cada capa.\n",
    "- **Tamaño del Lote**: Número de muestras procesadas antes de actualizar los pesos.\n",
    "- **Tasa de Aprendizaje**: Parámetro que determina el tamaño de los pasos que da el algoritmo de optimización durante el entrenamiento.\n",
    "\n",
    "### Ventajas y Desventajas\n",
    "\n",
    "- **Ventajas**:\n",
    "  - Capaces de modelar relaciones complejas y no lineales.\n",
    "  - Potentes en tareas de reconocimiento de patrones y clasificación.\n",
    "  - Flexibles y adaptables a diferentes tipos de datos y problemas.\n",
    "\n",
    "- **Desventajas**:\n",
    "  - Requieren una gran cantidad de datos y poder de computación.\n",
    "  - Pueden ser propensas al sobreajuste si no se manejan adecuadamente.\n",
    "  - La interpretación de los modelos entrenados puede ser difícil.\n",
    "\n",
    "### Métricas de Evaluación para Redes Neuronales\n",
    "\n",
    "| Métrica               | Qué Mide                                                 | Interpretación                                   | Cuándo Usarla                                             | Cuándo No Usarla                                           |\n",
    "|-----------------------|----------------------------------------------------------|--------------------------------------------------|-----------------------------------------------------------|------------------------------------------------------------|\n",
    "| Accuracy              | Proporción de predicciones correctas                    | Valor entre 0 y 1, donde 1 es perfecto           | Evaluar el rendimiento general del modelo                 | Cuando las clases están desbalanceadas                     |\n",
    "| Precision             | Proporción de verdaderos positivos entre los predichos como positivos | Valor entre 0 y 1, donde 1 es perfecto           | Evaluar el rendimiento en problemas donde el costo de falsos positivos es alto | Cuando necesitas evaluar la capacidad del modelo para detectar todos los positivos |\n",
    "| Recall (Sensibilidad) | Proporción de verdaderos positivos entre todos los reales positivos | Valor entre 0 y 1, donde 1 es perfecto           | Evaluar el rendimiento en problemas donde el costo de falsos negativos es alto | Cuando necesitas evaluar la capacidad del modelo para evitar falsos positivos |\n",
    "| F1 Score              | Media armónica de precision y recall                    | Valor entre 0 y 1, donde 1 es perfecto           | Evaluar el equilibrio entre precision y recall            | Cuando las clases están desbalanceadas o se prefiere una métrica unidimensional |\n",
    "| AUC-ROC               | Área bajo la curva ROC (Receiver Operating Characteristic) | Valor entre 0 y 1, donde 1 es perfecto           | Evaluar la capacidad del modelo para distinguir entre clases | Cuando necesitas una métrica interpretable de manera directa y unidimensional |\n",
    "| Log-Loss              | Logaritmo de la función de pérdida                      | Valor más bajo es mejor                          | Evaluar la incertidumbre de las predicciones probabilísticas | Cuando se prefieren métricas más interpretables como Accuracy |\n",
    "| Cross-Entropy Loss    | Pérdida utilizada para problemas de clasificación       | Valor más bajo es mejor                          | Optimización durante el entrenamiento de la red           | Cuando prefieres métricas de interpretación directa como Accuracy |\n"
   ]
  },
  {
   "cell_type": "markdown",
   "metadata": {},
   "source": [
    "![Esquema red](Redes_Neuronales/Esquema_funcionamiento_red.jpeg)\n"
   ]
  },
  {
   "cell_type": "markdown",
   "metadata": {},
   "source": [
    "![Esquema red](Redes_Neuronales/foto_red_completa.png)"
   ]
  },
  {
   "cell_type": "markdown",
   "metadata": {},
   "source": [
    "![Esquema red](Redes_Neuronales/red_neuronal.png)"
   ]
  }
 ],
 "metadata": {
  "language_info": {
   "name": "python"
  }
 },
 "nbformat": 4,
 "nbformat_minor": 2
}
