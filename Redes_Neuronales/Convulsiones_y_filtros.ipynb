{
 "cells": [
  {
   "cell_type": "markdown",
   "metadata": {},
   "source": [
    "# Convusliones y filtros\n",
    "\n",
    "Las convoluciones y filtros son conceptos fundamentales en las redes neuronales convolucionales (CNN), ampliamente utilizadas en el procesamiento de imágenes y tareas de visión por computadora.\n",
    "\n",
    "## Conceptos Clave\n",
    "\n",
    "- **Convolución**: Operación matemática que combina dos funciones para producir una tercera. En el contexto de CNN, se utiliza para extraer características de las imágenes.\n",
    "- **Filtros (Kernels)**: Matrices pequeñas que se deslizan sobre la entrada (imagen) para realizar la operación de convolución. Los filtros detectan características como bordes, texturas y patrones.\n",
    "- **Mapas de Características**: Resultado de aplicar un filtro a una imagen. Representa las características detectadas por el filtro en diferentes regiones de la imagen.\n",
    "- **Stride**: Número de píxeles que se mueve el filtro sobre la imagen. Un stride mayor reduce el tamaño del mapa de características.\n",
    "- **Padding**: Técnica utilizada para agregar píxeles adicionales alrededor de la imagen, permitiendo que los filtros se apliquen en los bordes. Puede ser \"valid\" (sin padding) o \"same\" (padding para mantener el mismo tamaño).\n",
    "\n",
    "## Construcción de una CNN\n",
    "\n",
    "1. **Capa de Convolución**: Aplica varios filtros a la imagen de entrada para producir mapas de características. Cada filtro está diseñado para detectar diferentes características.\n",
    "2. **Capa de Activación**: Aplica una función de activación, como ReLU, a los mapas de características para introducir no linealidad.\n",
    "3. **Capa de Pooling**: Reduce el tamaño de los mapas de características, manteniendo las características más importantes. Las técnicas comunes incluyen max pooling y average pooling.\n",
    "4. **Capas Completamente Conectadas**: Al final de la red, las capas completamente conectadas combinan las características extraídas para realizar la clasificación final.\n",
    "\n",
    "### Suposiciones y Consideraciones\n",
    "\n",
    "- **Tamaño del Filtro**: Determina la región de la imagen que el filtro cubre. Comúnmente, los tamaños son 3x3, 5x5, etc.\n",
    "- **Número de Filtros**: Cada capa de convolución puede tener múltiples filtros, cada uno detectando diferentes características.\n",
    "- **Profundidad de la Red**: A medida que se agregan más capas de convolución, la red puede aprender características más complejas.\n",
    "\n",
    "### Ventajas y Desventajas\n",
    "\n",
    "- **Ventajas**:\n",
    "  - Capaces de detectar y aprender características jerárquicas.\n",
    "  - Requieren menos preprocesamiento en comparación con otras técnicas de visión por computadora.\n",
    "  - Eficientes en términos de parámetros para el procesamiento de imágenes.\n",
    "\n",
    "- **Desventajas**:\n",
    "  - Requieren grandes cantidades de datos y poder de computación.\n",
    "  - Susceptibles al sobreajuste si no se manejan adecuadamente.\n",
    "  - Difíciles de interpretar y explicar.\n",
    "\n",
    "### Métricas de Evaluación para CNN\n",
    "\n",
    "| Métrica               | Qué Mide                                                 | Interpretación                                   | Cuándo Usarla                                             | Cuándo No Usarla                                           |\n",
    "|-----------------------|----------------------------------------------------------|--------------------------------------------------|-----------------------------------------------------------|------------------------------------------------------------|\n",
    "| Accuracy              | Proporción de predicciones correctas                    | Valor entre 0 y 1, donde 1 es perfecto           | Evaluar el rendimiento general del modelo                 | Cuando las clases están desbalanceadas                     |\n",
    "| Precision             | Proporción de verdaderos positivos entre los predichos como positivos | Valor entre 0 y 1, donde 1 es perfecto           | Evaluar el rendimiento en problemas donde el costo de falsos positivos es alto | Cuando necesitas evaluar la capacidad del modelo para detectar todos los positivos |\n",
    "| Recall (Sensibilidad) | Proporción de verdaderos positivos entre todos los reales positivos | Valor entre 0 y 1, donde 1 es perfecto           | Evaluar el rendimiento en problemas donde el costo de falsos negativos es alto | Cuando necesitas evaluar la capacidad del modelo para evitar falsos positivos |\n",
    "| F1 Score              | Media armónica de precision y recall                    | Valor entre 0 y 1, donde 1 es perfecto           | Evaluar el equilibrio entre precision y recall            | Cuando las clases están desbalanceadas o se prefiere una métrica unidimensional |\n",
    "| AUC-ROC               | Área bajo la curva ROC (Receiver Operating Characteristic) | Valor entre 0 y 1, donde 1 es perfecto           | Evaluar la capacidad del modelo para distinguir entre clases | Cuando necesitas una métrica interpretable de manera directa y unidimensional |\n",
    "| Log-Loss              | Logaritmo de la función de pérdida                      | Valor más bajo es mejor                          | Evaluar la incertidumbre de las predicciones probabilísticas | Cuando se prefieren métricas más interpretables como Accuracy |\n",
    "| Cross-Entropy Loss    | Pérdida utilizada para problemas de clasificación       | Valor más bajo es mejor                          | Optimización durante el entrenamiento de la red           | Cuando prefieres métricas de interpretación directa como Accuracy |\n"
   ]
  }
 ],
 "metadata": {
  "language_info": {
   "name": "python"
  }
 },
 "nbformat": 4,
 "nbformat_minor": 2
}
