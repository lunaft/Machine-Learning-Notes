{
 "cells": [
  {
   "cell_type": "markdown",
   "metadata": {},
   "source": [
    "# NLTK\n",
    "\n",
    "Una de las bibliotecas más antiguas y completas para PNL en Python.\n",
    "Ofrece herramientas para tareas como tokenización, stemming, lematización, etiquetado de partes del discurso, análisis sintáctico, etc.\n"
   ]
  },
  {
   "cell_type": "markdown",
   "metadata": {},
   "source": [
    "# Resumen de texto con NLTK"
   ]
  },
  {
   "cell_type": "code",
   "execution_count": 1,
   "metadata": {},
   "outputs": [
    {
     "name": "stderr",
     "output_type": "stream",
     "text": [
      "[nltk_data] Downloading package punkt to\n",
      "[nltk_data]     /Users/lunaflorestorres/nltk_data...\n",
      "[nltk_data]   Package punkt is already up-to-date!\n",
      "[nltk_data] Downloading package stopwords to\n",
      "[nltk_data]     /Users/lunaflorestorres/nltk_data...\n",
      "[nltk_data]   Package stopwords is already up-to-date!\n"
     ]
    },
    {
     "name": "stdout",
     "output_type": "stream",
     "text": [
      "Consultado el 6 de febrero de 2019 . ; la epistemología [ 16 ] ​, que estudia la naturaleza del conocimiento y las creencias; la metafísica [ 17 ] ​, que se ocupa de la naturaleza más fundamental de lo que consideramos realidad; la ética, que reflexiona acerca de la vida y el valor, los conceptos del bien y el mal, el buen vivir, la dignidad, los derechos, la virtud y, en su conjunto, la consideración que podemos tener al respecto de las decisiones y acciones; Entre otros subcampos notables se incluyen la filosofía de la ciencia, la filosofía política, la filosofía de la tecnología o la filosofía de la mente. [ editar ] La filosofía de la religión es una rama de la filosofía que tiene por objeto de estudio la religión, la espiritualidad, como una manifestación consciente y reflexiva sobre el sentido trascendente de la existencia y el mundo, [ 101 ] ​ lo que incluye sus argumentos sobre la naturaleza, la existencia de Dios, el problema del mal, dando cuenta de su universalismo en tanto que ha prevalecido considerablemente en la historia de las culturas humanas, como también sobre la relación entre la religión y otros sistemas de valores como la ciencia. * Relación de cada una de ellas con la realidad * Cómo la ciencia describe, explica, predice y contribuye al control de la naturaleza (esto último en conjunto con la filosofía de la tecnología) * Formulación y uso del método científico * Tipos de razonamiento utilizados para llegar a conclusiones * Implicaciones de los diferentes métodos y modelos de ciencia La filosofía de la ciencia comparte algunos problemas con la gnoseología —la teoría del conocimiento— que se ocupa de los límites y condiciones de posibilidad de todo conocimiento. Por ejemplo: * Existe de manera independiente de la mente humana (tesis ontológica de realismo) * La naturaleza es regular, al menos en alguna medida (tesis ontológica de legalidad) * El ser humano es capaz de comprender la naturaleza (tesis gnoseológica de inteligibilidad) * Tomar conciencia de su propia forma de pensar sobre sí misma Si bien estos supuestos metafísicos no son cuestionados por el realismo científico, muchos han planteado serias sospechas respecto del segundo de ellos [ 99 ] ​ y numerosos filósofos han puesto en tela de juicio alguno de ellos o los tres. [...] [ 4 ] ​ Trata de responder a una variedad de problemas fundamentales acerca de cuestiones como la razón (lógica), el lenguaje y la semántica (filosofía del lenguaje), el ser y la existencia (metafísica, metaontología y ontología), el conocimiento (gnoseología, epistemología y filosofía de la ciencia), la ética (ética o filosofía moral), la belleza (estética), el valor (axiología), la religión (filosofía de la religión) y la mente (fenomenología, filosofía de la mente), entre otras. Es que los filósofos han preferido olvidarlas, quizás después de haberse apropiado de sus ideas\" dice el escritor y filósofo italiano Umberto Eco en \"Filosofare al femminile\" recordando la existencia de Diotima, Arete, Nicarete, Ipazia, Astasia, Teodora, Leoncia y Caterina de Siena, a propósito de la publicación en Francia de Histoire des femmes philosophes de Gilles Menage, latinista del siglo XVII , preceptor de Madame de Sévigné y de Madame de Lafayette cuyo libro, aparecido en 1690, se titulaba originalmente Mulierum philosopharum historia.\n"
     ]
    }
   ],
   "source": [
    "import bs4 as bs  \n",
    "import urllib.request  \n",
    "import re\n",
    "import nltk\n",
    "nltk.download('punkt')\n",
    "nltk.download('stopwords')\n",
    "import bs4\n",
    "import urllib.request\n",
    "import requests\n",
    "from bs4 import BeautifulSoup\n",
    "import urllib.request\n",
    "from inscriptis import get_text\n",
    "from googletrans import Translator\n",
    " \n",
    "#scrapea articulo de wikipedia, lo limpia \n",
    "enlace = input('Ingrese el link de la pagina que desea resumir\\n')\n",
    "minLetters = int(input('Digite el minimo de palabras que desea tener el reumen\\n'))\n",
    "html = urllib.request.urlopen(enlace).read().decode('utf-8')\n",
    "text = get_text(html)\n",
    "article_text = text\n",
    "article_text = article_text.replace(\"[ edit ]\", \"\")\n",
    "\n",
    "from nltk import word_tokenize,sent_tokenize\n",
    "# Elimina caracteres especiales y espacios \n",
    "article_text = re.sub(r'\\[[0-9]*\\]', ' ', article_text)  \n",
    "article_text = re.sub(r'\\s+', ' ', article_text)  \n",
    " \n",
    "formatted_article_text = re.sub('[^a-zA-Z]', ' ', article_text )  \n",
    "formatted_article_text = re.sub(r'\\s+', ' ', formatted_article_text)  \n",
    "#EN ESTA PARTE HACE LA TOKENIZACION \n",
    "sentence_list = nltk.sent_tokenize(article_text)  \n",
    " \n",
    "#SEPARA CADA PALABRA Y LA FRECUENCIA DE CADA UNA\n",
    "stopwords = nltk.corpus.stopwords.words('english')\n",
    " \n",
    "word_frequencies = {}  \n",
    "for word in nltk.word_tokenize(formatted_article_text):  \n",
    "    if word not in stopwords:\n",
    "        if word not in word_frequencies.keys():\n",
    "            word_frequencies[word] = 1\n",
    "        else:\n",
    "            word_frequencies[word] += 1\n",
    " \n",
    "#\n",
    "maximum_frequncy = max(word_frequencies.values())\n",
    " \n",
    "for word in word_frequencies.keys():  \n",
    "    word_frequencies[word] = (word_frequencies[word]/maximum_frequncy)\n",
    " \n",
    "#SELECCIONA LAS FRASES QUE MÁS SE REPITEN\n",
    "sentence_scores = {}  \n",
    "for sent in sentence_list:  \n",
    "    for word in nltk.word_tokenize(sent.lower()):\n",
    "        if word in word_frequencies.keys():\n",
    "            if len(sent.split(' ')) < minLetters:\n",
    "                if sent not in sentence_scores.keys():\n",
    "                    sentence_scores[sent] = word_frequencies[word]\n",
    "                else:\n",
    "                    sentence_scores[sent] += word_frequencies[word]\n",
    " \n",
    "#REALIZA EL RESUMEN CON LAS MEJORES FRASES\n",
    "opc= input('¿Desea traducir el resumen? y/n \\n')\n",
    "import heapq  \n",
    "summary_sentences = heapq.nlargest(7, sentence_scores, key=sentence_scores.get)\n",
    "summary = ' '.join(summary_sentences)  \n",
    "if(opc=='n'):\n",
    "   print(summary)\n",
    "else:\n",
    "    translator = Translator()\n",
    "    translate = translator.translate(summary, src=\"en\", dest=\"es\")\n",
    "    print(\"***************************TRADUCCIÓN*******************************\")\n",
    "    print(translate.text)"
   ]
  }
 ],
 "metadata": {
  "kernelspec": {
   "display_name": "Python 3",
   "language": "python",
   "name": "python3"
  },
  "language_info": {
   "codemirror_mode": {
    "name": "ipython",
    "version": 3
   },
   "file_extension": ".py",
   "mimetype": "text/x-python",
   "name": "python",
   "nbconvert_exporter": "python",
   "pygments_lexer": "ipython3",
   "version": "3.11.6"
  }
 },
 "nbformat": 4,
 "nbformat_minor": 2
}
